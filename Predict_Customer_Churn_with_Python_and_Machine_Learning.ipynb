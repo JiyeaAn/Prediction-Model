{
  "nbformat": 4,
  "nbformat_minor": 0,
  "metadata": {
    "colab": {
      "provenance": [],
      "collapsed_sections": [],
      "machine_shape": "hm",
      "authorship_tag": "ABX9TyMaja246U2JUCVbbMmGbZie",
      "include_colab_link": true
    },
    "kernelspec": {
      "name": "python3",
      "display_name": "Python 3"
    },
    "language_info": {
      "name": "python"
    },
    "accelerator": "GPU",
    "gpuClass": "premium"
  },
  "cells": [
    {
      "cell_type": "markdown",
      "metadata": {
        "id": "view-in-github",
        "colab_type": "text"
      },
      "source": [
        "<a href=\"https://colab.research.google.com/github/JiyeaAn/Prediction-Model/blob/main/Predict_Customer_Churn_with_Python_and_Machine_Learning.ipynb\" target=\"_parent\"><img src=\"https://colab.research.google.com/assets/colab-badge.svg\" alt=\"Open In Colab\"/></a>"
      ]
    },
    {
      "cell_type": "markdown",
      "source": [
        "# 1. Setting"
      ],
      "metadata": {
        "id": "TnJ9-x0zWkHL"
      }
    },
    {
      "cell_type": "markdown",
      "source": [
        "![스케일러 종류.PNG](data:image/png;base64,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)"
      ],
      "metadata": {
        "id": "osFhQMCaT91V"
      }
    },
    {
      "cell_type": "code",
      "execution_count": 1,
      "metadata": {
        "id": "gmM3-28mRnae"
      },
      "outputs": [],
      "source": [
        "import numpy as np\n",
        "import pandas as pd\n",
        "import sklearn\n",
        "import matplotlib.pyplot as plt\n",
        "import seaborn as sns\n",
        "from sklearn.preprocessing import LabelEncoder\n",
        "from sklearn.preprocessing import StandardScaler\n",
        "from sklearn.metrics import classification_report\n",
        "from sklearn.linear_model import LogisticRegression\n",
        "from sklearn.model_selection import train_test_split"
      ]
    },
    {
      "cell_type": "code",
      "source": [
        "from google.colab import drive\n",
        "drive.mount('/content/drive')"
      ],
      "metadata": {
        "colab": {
          "base_uri": "https://localhost:8080/"
        },
        "id": "OturIAhHTYYA",
        "outputId": "19939412-f9b0-49c0-a125-964315dc3a3c"
      },
      "execution_count": 2,
      "outputs": [
        {
          "output_type": "stream",
          "name": "stdout",
          "text": [
            "Drive already mounted at /content/drive; to attempt to forcibly remount, call drive.mount(\"/content/drive\", force_remount=True).\n"
          ]
        }
      ]
    },
    {
      "cell_type": "code",
      "source": [
        "# Telecom dataset\n",
        "df = pd.read_csv('/content/drive/MyDrive/dataset/churn.csv')"
      ],
      "metadata": {
        "id": "XC4A2u2UU0iP"
      },
      "execution_count": 3,
      "outputs": []
    },
    {
      "cell_type": "code",
      "source": [
        "df.head(5)"
      ],
      "metadata": {
        "colab": {
          "base_uri": "https://localhost:8080/",
          "height": 386
        },
        "id": "jRhirImwVG_r",
        "outputId": "2cf15d66-db5d-4d65-ef13-63ccd2bae173"
      },
      "execution_count": 4,
      "outputs": [
        {
          "output_type": "execute_result",
          "data": {
            "text/plain": [
              "   customerID  gender  SeniorCitizen Partner Dependents  tenure PhoneService  \\\n",
              "0  7590-VHVEG  Female              0     Yes         No       1           No   \n",
              "1  5575-GNVDE    Male              0      No         No      34          Yes   \n",
              "2  3668-QPYBK    Male              0      No         No       2          Yes   \n",
              "3  7795-CFOCW    Male              0      No         No      45           No   \n",
              "4  9237-HQITU  Female              0      No         No       2          Yes   \n",
              "\n",
              "      MultipleLines InternetService OnlineSecurity  ... DeviceProtection  \\\n",
              "0  No phone service             DSL             No  ...               No   \n",
              "1                No             DSL            Yes  ...              Yes   \n",
              "2                No             DSL            Yes  ...               No   \n",
              "3  No phone service             DSL            Yes  ...              Yes   \n",
              "4                No     Fiber optic             No  ...               No   \n",
              "\n",
              "  TechSupport StreamingTV StreamingMovies        Contract PaperlessBilling  \\\n",
              "0          No          No              No  Month-to-month              Yes   \n",
              "1          No          No              No        One year               No   \n",
              "2          No          No              No  Month-to-month              Yes   \n",
              "3         Yes          No              No        One year               No   \n",
              "4          No          No              No  Month-to-month              Yes   \n",
              "\n",
              "               PaymentMethod MonthlyCharges  TotalCharges Churn  \n",
              "0           Electronic check          29.85         29.85    No  \n",
              "1               Mailed check          56.95        1889.5    No  \n",
              "2               Mailed check          53.85        108.15   Yes  \n",
              "3  Bank transfer (automatic)          42.30       1840.75    No  \n",
              "4           Electronic check          70.70        151.65   Yes  \n",
              "\n",
              "[5 rows x 21 columns]"
            ],
            "text/html": [
              "\n",
              "  <div id=\"df-ab397c98-5aa7-4efe-b921-a1bd05145191\">\n",
              "    <div class=\"colab-df-container\">\n",
              "      <div>\n",
              "<style scoped>\n",
              "    .dataframe tbody tr th:only-of-type {\n",
              "        vertical-align: middle;\n",
              "    }\n",
              "\n",
              "    .dataframe tbody tr th {\n",
              "        vertical-align: top;\n",
              "    }\n",
              "\n",
              "    .dataframe thead th {\n",
              "        text-align: right;\n",
              "    }\n",
              "</style>\n",
              "<table border=\"1\" class=\"dataframe\">\n",
              "  <thead>\n",
              "    <tr style=\"text-align: right;\">\n",
              "      <th></th>\n",
              "      <th>customerID</th>\n",
              "      <th>gender</th>\n",
              "      <th>SeniorCitizen</th>\n",
              "      <th>Partner</th>\n",
              "      <th>Dependents</th>\n",
              "      <th>tenure</th>\n",
              "      <th>PhoneService</th>\n",
              "      <th>MultipleLines</th>\n",
              "      <th>InternetService</th>\n",
              "      <th>OnlineSecurity</th>\n",
              "      <th>...</th>\n",
              "      <th>DeviceProtection</th>\n",
              "      <th>TechSupport</th>\n",
              "      <th>StreamingTV</th>\n",
              "      <th>StreamingMovies</th>\n",
              "      <th>Contract</th>\n",
              "      <th>PaperlessBilling</th>\n",
              "      <th>PaymentMethod</th>\n",
              "      <th>MonthlyCharges</th>\n",
              "      <th>TotalCharges</th>\n",
              "      <th>Churn</th>\n",
              "    </tr>\n",
              "  </thead>\n",
              "  <tbody>\n",
              "    <tr>\n",
              "      <th>0</th>\n",
              "      <td>7590-VHVEG</td>\n",
              "      <td>Female</td>\n",
              "      <td>0</td>\n",
              "      <td>Yes</td>\n",
              "      <td>No</td>\n",
              "      <td>1</td>\n",
              "      <td>No</td>\n",
              "      <td>No phone service</td>\n",
              "      <td>DSL</td>\n",
              "      <td>No</td>\n",
              "      <td>...</td>\n",
              "      <td>No</td>\n",
              "      <td>No</td>\n",
              "      <td>No</td>\n",
              "      <td>No</td>\n",
              "      <td>Month-to-month</td>\n",
              "      <td>Yes</td>\n",
              "      <td>Electronic check</td>\n",
              "      <td>29.85</td>\n",
              "      <td>29.85</td>\n",
              "      <td>No</td>\n",
              "    </tr>\n",
              "    <tr>\n",
              "      <th>1</th>\n",
              "      <td>5575-GNVDE</td>\n",
              "      <td>Male</td>\n",
              "      <td>0</td>\n",
              "      <td>No</td>\n",
              "      <td>No</td>\n",
              "      <td>34</td>\n",
              "      <td>Yes</td>\n",
              "      <td>No</td>\n",
              "      <td>DSL</td>\n",
              "      <td>Yes</td>\n",
              "      <td>...</td>\n",
              "      <td>Yes</td>\n",
              "      <td>No</td>\n",
              "      <td>No</td>\n",
              "      <td>No</td>\n",
              "      <td>One year</td>\n",
              "      <td>No</td>\n",
              "      <td>Mailed check</td>\n",
              "      <td>56.95</td>\n",
              "      <td>1889.5</td>\n",
              "      <td>No</td>\n",
              "    </tr>\n",
              "    <tr>\n",
              "      <th>2</th>\n",
              "      <td>3668-QPYBK</td>\n",
              "      <td>Male</td>\n",
              "      <td>0</td>\n",
              "      <td>No</td>\n",
              "      <td>No</td>\n",
              "      <td>2</td>\n",
              "      <td>Yes</td>\n",
              "      <td>No</td>\n",
              "      <td>DSL</td>\n",
              "      <td>Yes</td>\n",
              "      <td>...</td>\n",
              "      <td>No</td>\n",
              "      <td>No</td>\n",
              "      <td>No</td>\n",
              "      <td>No</td>\n",
              "      <td>Month-to-month</td>\n",
              "      <td>Yes</td>\n",
              "      <td>Mailed check</td>\n",
              "      <td>53.85</td>\n",
              "      <td>108.15</td>\n",
              "      <td>Yes</td>\n",
              "    </tr>\n",
              "    <tr>\n",
              "      <th>3</th>\n",
              "      <td>7795-CFOCW</td>\n",
              "      <td>Male</td>\n",
              "      <td>0</td>\n",
              "      <td>No</td>\n",
              "      <td>No</td>\n",
              "      <td>45</td>\n",
              "      <td>No</td>\n",
              "      <td>No phone service</td>\n",
              "      <td>DSL</td>\n",
              "      <td>Yes</td>\n",
              "      <td>...</td>\n",
              "      <td>Yes</td>\n",
              "      <td>Yes</td>\n",
              "      <td>No</td>\n",
              "      <td>No</td>\n",
              "      <td>One year</td>\n",
              "      <td>No</td>\n",
              "      <td>Bank transfer (automatic)</td>\n",
              "      <td>42.30</td>\n",
              "      <td>1840.75</td>\n",
              "      <td>No</td>\n",
              "    </tr>\n",
              "    <tr>\n",
              "      <th>4</th>\n",
              "      <td>9237-HQITU</td>\n",
              "      <td>Female</td>\n",
              "      <td>0</td>\n",
              "      <td>No</td>\n",
              "      <td>No</td>\n",
              "      <td>2</td>\n",
              "      <td>Yes</td>\n",
              "      <td>No</td>\n",
              "      <td>Fiber optic</td>\n",
              "      <td>No</td>\n",
              "      <td>...</td>\n",
              "      <td>No</td>\n",
              "      <td>No</td>\n",
              "      <td>No</td>\n",
              "      <td>No</td>\n",
              "      <td>Month-to-month</td>\n",
              "      <td>Yes</td>\n",
              "      <td>Electronic check</td>\n",
              "      <td>70.70</td>\n",
              "      <td>151.65</td>\n",
              "      <td>Yes</td>\n",
              "    </tr>\n",
              "  </tbody>\n",
              "</table>\n",
              "<p>5 rows × 21 columns</p>\n",
              "</div>\n",
              "      <button class=\"colab-df-convert\" onclick=\"convertToInteractive('df-ab397c98-5aa7-4efe-b921-a1bd05145191')\"\n",
              "              title=\"Convert this dataframe to an interactive table.\"\n",
              "              style=\"display:none;\">\n",
              "        \n",
              "  <svg xmlns=\"http://www.w3.org/2000/svg\" height=\"24px\"viewBox=\"0 0 24 24\"\n",
              "       width=\"24px\">\n",
              "    <path d=\"M0 0h24v24H0V0z\" fill=\"none\"/>\n",
              "    <path d=\"M18.56 5.44l.94 2.06.94-2.06 2.06-.94-2.06-.94-.94-2.06-.94 2.06-2.06.94zm-11 1L8.5 8.5l.94-2.06 2.06-.94-2.06-.94L8.5 2.5l-.94 2.06-2.06.94zm10 10l.94 2.06.94-2.06 2.06-.94-2.06-.94-.94-2.06-.94 2.06-2.06.94z\"/><path d=\"M17.41 7.96l-1.37-1.37c-.4-.4-.92-.59-1.43-.59-.52 0-1.04.2-1.43.59L10.3 9.45l-7.72 7.72c-.78.78-.78 2.05 0 2.83L4 21.41c.39.39.9.59 1.41.59.51 0 1.02-.2 1.41-.59l7.78-7.78 2.81-2.81c.8-.78.8-2.07 0-2.86zM5.41 20L4 18.59l7.72-7.72 1.47 1.35L5.41 20z\"/>\n",
              "  </svg>\n",
              "      </button>\n",
              "      \n",
              "  <style>\n",
              "    .colab-df-container {\n",
              "      display:flex;\n",
              "      flex-wrap:wrap;\n",
              "      gap: 12px;\n",
              "    }\n",
              "\n",
              "    .colab-df-convert {\n",
              "      background-color: #E8F0FE;\n",
              "      border: none;\n",
              "      border-radius: 50%;\n",
              "      cursor: pointer;\n",
              "      display: none;\n",
              "      fill: #1967D2;\n",
              "      height: 32px;\n",
              "      padding: 0 0 0 0;\n",
              "      width: 32px;\n",
              "    }\n",
              "\n",
              "    .colab-df-convert:hover {\n",
              "      background-color: #E2EBFA;\n",
              "      box-shadow: 0px 1px 2px rgba(60, 64, 67, 0.3), 0px 1px 3px 1px rgba(60, 64, 67, 0.15);\n",
              "      fill: #174EA6;\n",
              "    }\n",
              "\n",
              "    [theme=dark] .colab-df-convert {\n",
              "      background-color: #3B4455;\n",
              "      fill: #D2E3FC;\n",
              "    }\n",
              "\n",
              "    [theme=dark] .colab-df-convert:hover {\n",
              "      background-color: #434B5C;\n",
              "      box-shadow: 0px 1px 3px 1px rgba(0, 0, 0, 0.15);\n",
              "      filter: drop-shadow(0px 1px 2px rgba(0, 0, 0, 0.3));\n",
              "      fill: #FFFFFF;\n",
              "    }\n",
              "  </style>\n",
              "\n",
              "      <script>\n",
              "        const buttonEl =\n",
              "          document.querySelector('#df-ab397c98-5aa7-4efe-b921-a1bd05145191 button.colab-df-convert');\n",
              "        buttonEl.style.display =\n",
              "          google.colab.kernel.accessAllowed ? 'block' : 'none';\n",
              "\n",
              "        async function convertToInteractive(key) {\n",
              "          const element = document.querySelector('#df-ab397c98-5aa7-4efe-b921-a1bd05145191');\n",
              "          const dataTable =\n",
              "            await google.colab.kernel.invokeFunction('convertToInteractive',\n",
              "                                                     [key], {});\n",
              "          if (!dataTable) return;\n",
              "\n",
              "          const docLinkHtml = 'Like what you see? Visit the ' +\n",
              "            '<a target=\"_blank\" href=https://colab.research.google.com/notebooks/data_table.ipynb>data table notebook</a>'\n",
              "            + ' to learn more about interactive tables.';\n",
              "          element.innerHTML = '';\n",
              "          dataTable['output_type'] = 'display_data';\n",
              "          await google.colab.output.renderOutput(dataTable, element);\n",
              "          const docLink = document.createElement('div');\n",
              "          docLink.innerHTML = docLinkHtml;\n",
              "          element.appendChild(docLink);\n",
              "        }\n",
              "      </script>\n",
              "    </div>\n",
              "  </div>\n",
              "  "
            ]
          },
          "metadata": {},
          "execution_count": 4
        }
      ]
    },
    {
      "cell_type": "markdown",
      "source": [
        "# 2. EDA"
      ],
      "metadata": {
        "id": "5jgWWZ9XWdtP"
      }
    },
    {
      "cell_type": "code",
      "source": [
        "df.info()"
      ],
      "metadata": {
        "colab": {
          "base_uri": "https://localhost:8080/"
        },
        "id": "2l4FU0V4VNDn",
        "outputId": "687ba771-1f2a-4b4a-deb4-e6af0cf064ea"
      },
      "execution_count": 5,
      "outputs": [
        {
          "output_type": "stream",
          "name": "stdout",
          "text": [
            "<class 'pandas.core.frame.DataFrame'>\n",
            "RangeIndex: 7043 entries, 0 to 7042\n",
            "Data columns (total 21 columns):\n",
            " #   Column            Non-Null Count  Dtype  \n",
            "---  ------            --------------  -----  \n",
            " 0   customerID        7043 non-null   object \n",
            " 1   gender            7043 non-null   object \n",
            " 2   SeniorCitizen     7043 non-null   int64  \n",
            " 3   Partner           7043 non-null   object \n",
            " 4   Dependents        7043 non-null   object \n",
            " 5   tenure            7043 non-null   int64  \n",
            " 6   PhoneService      7043 non-null   object \n",
            " 7   MultipleLines     7043 non-null   object \n",
            " 8   InternetService   7043 non-null   object \n",
            " 9   OnlineSecurity    7043 non-null   object \n",
            " 10  OnlineBackup      7043 non-null   object \n",
            " 11  DeviceProtection  7043 non-null   object \n",
            " 12  TechSupport       7043 non-null   object \n",
            " 13  StreamingTV       7043 non-null   object \n",
            " 14  StreamingMovies   7043 non-null   object \n",
            " 15  Contract          7043 non-null   object \n",
            " 16  PaperlessBilling  7043 non-null   object \n",
            " 17  PaymentMethod     7043 non-null   object \n",
            " 18  MonthlyCharges    7043 non-null   float64\n",
            " 19  TotalCharges      7043 non-null   object \n",
            " 20  Churn             7043 non-null   object \n",
            "dtypes: float64(1), int64(2), object(18)\n",
            "memory usage: 1.1+ MB\n"
          ]
        }
      ]
    },
    {
      "cell_type": "code",
      "source": [
        "df.shape"
      ],
      "metadata": {
        "colab": {
          "base_uri": "https://localhost:8080/"
        },
        "id": "LYBliOVPVnRj",
        "outputId": "88b390db-8708-4b3d-b692-b2e66f12d8aa"
      },
      "execution_count": 6,
      "outputs": [
        {
          "output_type": "execute_result",
          "data": {
            "text/plain": [
              "(7043, 21)"
            ]
          },
          "metadata": {},
          "execution_count": 6
        }
      ]
    },
    {
      "cell_type": "code",
      "source": [
        "# 결측값 체킹\n",
        "df.isna().sum()"
      ],
      "metadata": {
        "colab": {
          "base_uri": "https://localhost:8080/"
        },
        "id": "oSNGTOgdVqqr",
        "outputId": "7d230eb3-b9db-4c71-e8b0-08e00573c7e8"
      },
      "execution_count": 7,
      "outputs": [
        {
          "output_type": "execute_result",
          "data": {
            "text/plain": [
              "customerID          0\n",
              "gender              0\n",
              "SeniorCitizen       0\n",
              "Partner             0\n",
              "Dependents          0\n",
              "tenure              0\n",
              "PhoneService        0\n",
              "MultipleLines       0\n",
              "InternetService     0\n",
              "OnlineSecurity      0\n",
              "OnlineBackup        0\n",
              "DeviceProtection    0\n",
              "TechSupport         0\n",
              "StreamingTV         0\n",
              "StreamingMovies     0\n",
              "Contract            0\n",
              "PaperlessBilling    0\n",
              "PaymentMethod       0\n",
              "MonthlyCharges      0\n",
              "TotalCharges        0\n",
              "Churn               0\n",
              "dtype: int64"
            ]
          },
          "metadata": {},
          "execution_count": 7
        }
      ]
    },
    {
      "cell_type": "code",
      "source": [
        "# 기술통계 체크\n",
        "df.describe()"
      ],
      "metadata": {
        "colab": {
          "base_uri": "https://localhost:8080/",
          "height": 300
        },
        "id": "RaW5bHqiVzly",
        "outputId": "b127a6ea-7ddc-4dca-b094-7762525bfbbf"
      },
      "execution_count": 8,
      "outputs": [
        {
          "output_type": "execute_result",
          "data": {
            "text/plain": [
              "       SeniorCitizen       tenure  MonthlyCharges\n",
              "count    7043.000000  7043.000000     7043.000000\n",
              "mean        0.162147    32.371149       64.761692\n",
              "std         0.368612    24.559481       30.090047\n",
              "min         0.000000     0.000000       18.250000\n",
              "25%         0.000000     9.000000       35.500000\n",
              "50%         0.000000    29.000000       70.350000\n",
              "75%         0.000000    55.000000       89.850000\n",
              "max         1.000000    72.000000      118.750000"
            ],
            "text/html": [
              "\n",
              "  <div id=\"df-5d57a181-1016-456f-9991-ccefd708f5cd\">\n",
              "    <div class=\"colab-df-container\">\n",
              "      <div>\n",
              "<style scoped>\n",
              "    .dataframe tbody tr th:only-of-type {\n",
              "        vertical-align: middle;\n",
              "    }\n",
              "\n",
              "    .dataframe tbody tr th {\n",
              "        vertical-align: top;\n",
              "    }\n",
              "\n",
              "    .dataframe thead th {\n",
              "        text-align: right;\n",
              "    }\n",
              "</style>\n",
              "<table border=\"1\" class=\"dataframe\">\n",
              "  <thead>\n",
              "    <tr style=\"text-align: right;\">\n",
              "      <th></th>\n",
              "      <th>SeniorCitizen</th>\n",
              "      <th>tenure</th>\n",
              "      <th>MonthlyCharges</th>\n",
              "    </tr>\n",
              "  </thead>\n",
              "  <tbody>\n",
              "    <tr>\n",
              "      <th>count</th>\n",
              "      <td>7043.000000</td>\n",
              "      <td>7043.000000</td>\n",
              "      <td>7043.000000</td>\n",
              "    </tr>\n",
              "    <tr>\n",
              "      <th>mean</th>\n",
              "      <td>0.162147</td>\n",
              "      <td>32.371149</td>\n",
              "      <td>64.761692</td>\n",
              "    </tr>\n",
              "    <tr>\n",
              "      <th>std</th>\n",
              "      <td>0.368612</td>\n",
              "      <td>24.559481</td>\n",
              "      <td>30.090047</td>\n",
              "    </tr>\n",
              "    <tr>\n",
              "      <th>min</th>\n",
              "      <td>0.000000</td>\n",
              "      <td>0.000000</td>\n",
              "      <td>18.250000</td>\n",
              "    </tr>\n",
              "    <tr>\n",
              "      <th>25%</th>\n",
              "      <td>0.000000</td>\n",
              "      <td>9.000000</td>\n",
              "      <td>35.500000</td>\n",
              "    </tr>\n",
              "    <tr>\n",
              "      <th>50%</th>\n",
              "      <td>0.000000</td>\n",
              "      <td>29.000000</td>\n",
              "      <td>70.350000</td>\n",
              "    </tr>\n",
              "    <tr>\n",
              "      <th>75%</th>\n",
              "      <td>0.000000</td>\n",
              "      <td>55.000000</td>\n",
              "      <td>89.850000</td>\n",
              "    </tr>\n",
              "    <tr>\n",
              "      <th>max</th>\n",
              "      <td>1.000000</td>\n",
              "      <td>72.000000</td>\n",
              "      <td>118.750000</td>\n",
              "    </tr>\n",
              "  </tbody>\n",
              "</table>\n",
              "</div>\n",
              "      <button class=\"colab-df-convert\" onclick=\"convertToInteractive('df-5d57a181-1016-456f-9991-ccefd708f5cd')\"\n",
              "              title=\"Convert this dataframe to an interactive table.\"\n",
              "              style=\"display:none;\">\n",
              "        \n",
              "  <svg xmlns=\"http://www.w3.org/2000/svg\" height=\"24px\"viewBox=\"0 0 24 24\"\n",
              "       width=\"24px\">\n",
              "    <path d=\"M0 0h24v24H0V0z\" fill=\"none\"/>\n",
              "    <path d=\"M18.56 5.44l.94 2.06.94-2.06 2.06-.94-2.06-.94-.94-2.06-.94 2.06-2.06.94zm-11 1L8.5 8.5l.94-2.06 2.06-.94-2.06-.94L8.5 2.5l-.94 2.06-2.06.94zm10 10l.94 2.06.94-2.06 2.06-.94-2.06-.94-.94-2.06-.94 2.06-2.06.94z\"/><path d=\"M17.41 7.96l-1.37-1.37c-.4-.4-.92-.59-1.43-.59-.52 0-1.04.2-1.43.59L10.3 9.45l-7.72 7.72c-.78.78-.78 2.05 0 2.83L4 21.41c.39.39.9.59 1.41.59.51 0 1.02-.2 1.41-.59l7.78-7.78 2.81-2.81c.8-.78.8-2.07 0-2.86zM5.41 20L4 18.59l7.72-7.72 1.47 1.35L5.41 20z\"/>\n",
              "  </svg>\n",
              "      </button>\n",
              "      \n",
              "  <style>\n",
              "    .colab-df-container {\n",
              "      display:flex;\n",
              "      flex-wrap:wrap;\n",
              "      gap: 12px;\n",
              "    }\n",
              "\n",
              "    .colab-df-convert {\n",
              "      background-color: #E8F0FE;\n",
              "      border: none;\n",
              "      border-radius: 50%;\n",
              "      cursor: pointer;\n",
              "      display: none;\n",
              "      fill: #1967D2;\n",
              "      height: 32px;\n",
              "      padding: 0 0 0 0;\n",
              "      width: 32px;\n",
              "    }\n",
              "\n",
              "    .colab-df-convert:hover {\n",
              "      background-color: #E2EBFA;\n",
              "      box-shadow: 0px 1px 2px rgba(60, 64, 67, 0.3), 0px 1px 3px 1px rgba(60, 64, 67, 0.15);\n",
              "      fill: #174EA6;\n",
              "    }\n",
              "\n",
              "    [theme=dark] .colab-df-convert {\n",
              "      background-color: #3B4455;\n",
              "      fill: #D2E3FC;\n",
              "    }\n",
              "\n",
              "    [theme=dark] .colab-df-convert:hover {\n",
              "      background-color: #434B5C;\n",
              "      box-shadow: 0px 1px 3px 1px rgba(0, 0, 0, 0.15);\n",
              "      filter: drop-shadow(0px 1px 2px rgba(0, 0, 0, 0.3));\n",
              "      fill: #FFFFFF;\n",
              "    }\n",
              "  </style>\n",
              "\n",
              "      <script>\n",
              "        const buttonEl =\n",
              "          document.querySelector('#df-5d57a181-1016-456f-9991-ccefd708f5cd button.colab-df-convert');\n",
              "        buttonEl.style.display =\n",
              "          google.colab.kernel.accessAllowed ? 'block' : 'none';\n",
              "\n",
              "        async function convertToInteractive(key) {\n",
              "          const element = document.querySelector('#df-5d57a181-1016-456f-9991-ccefd708f5cd');\n",
              "          const dataTable =\n",
              "            await google.colab.kernel.invokeFunction('convertToInteractive',\n",
              "                                                     [key], {});\n",
              "          if (!dataTable) return;\n",
              "\n",
              "          const docLinkHtml = 'Like what you see? Visit the ' +\n",
              "            '<a target=\"_blank\" href=https://colab.research.google.com/notebooks/data_table.ipynb>data table notebook</a>'\n",
              "            + ' to learn more about interactive tables.';\n",
              "          element.innerHTML = '';\n",
              "          dataTable['output_type'] = 'display_data';\n",
              "          await google.colab.output.renderOutput(dataTable, element);\n",
              "          const docLink = document.createElement('div');\n",
              "          docLink.innerHTML = docLinkHtml;\n",
              "          element.appendChild(docLink);\n",
              "        }\n",
              "      </script>\n",
              "    </div>\n",
              "  </div>\n",
              "  "
            ]
          },
          "metadata": {},
          "execution_count": 8
        }
      ]
    },
    {
      "cell_type": "code",
      "source": [
        "# Target 비중 체크\n",
        "df['Churn'].value_counts()"
      ],
      "metadata": {
        "colab": {
          "base_uri": "https://localhost:8080/"
        },
        "id": "jhM78A0hVzef",
        "outputId": "7c36664f-c80e-4de3-8cea-34712e85d126"
      },
      "execution_count": 9,
      "outputs": [
        {
          "output_type": "execute_result",
          "data": {
            "text/plain": [
              "No     5174\n",
              "Yes    1869\n",
              "Name: Churn, dtype: int64"
            ]
          },
          "metadata": {},
          "execution_count": 9
        }
      ]
    },
    {
      "cell_type": "code",
      "source": [
        "sns.countplot(df['Churn'])"
      ],
      "metadata": {
        "colab": {
          "base_uri": "https://localhost:8080/",
          "height": 353
        },
        "id": "U11__9JGVzTa",
        "outputId": "f142f011-c6e2-4af2-a6c9-a7ac30ae6862"
      },
      "execution_count": 10,
      "outputs": [
        {
          "output_type": "stream",
          "name": "stderr",
          "text": [
            "/usr/local/lib/python3.7/dist-packages/seaborn/_decorators.py:43: FutureWarning: Pass the following variable as a keyword arg: x. From version 0.12, the only valid positional argument will be `data`, and passing other arguments without an explicit keyword will result in an error or misinterpretation.\n",
            "  FutureWarning\n"
          ]
        },
        {
          "output_type": "execute_result",
          "data": {
            "text/plain": [
              "<matplotlib.axes._subplots.AxesSubplot at 0x7f34bef98150>"
            ]
          },
          "metadata": {},
          "execution_count": 10
        },
        {
          "output_type": "display_data",
          "data": {
            "text/plain": [
              "<Figure size 432x288 with 1 Axes>"
            ],
            "image/png": "[encoded data removed]"
          },
          "metadata": {
            "needs_background": "light"
          }
        }
      ]
    },
    {
      "cell_type": "code",
      "source": [
        "# Target 비중 (%)\n",
        "numRetained = df[df.Churn == 'No'].shape[0]\n",
        "numChurned = df[df.Churn == 'Yes'].shape[0]\n",
        "\n",
        "print(numRetained/(numRetained + numChurned) * 100,'% of customers stayed in the company')\n",
        "print(numChurned/(numRetained + numChurned) * 100, '% of customers left with the company')"
      ],
      "metadata": {
        "colab": {
          "base_uri": "https://localhost:8080/"
        },
        "id": "rUgzV5sWWEou",
        "outputId": "2d0fb652-5e7e-4d0b-c497-6513ceba3dea"
      },
      "execution_count": 11,
      "outputs": [
        {
          "output_type": "stream",
          "name": "stdout",
          "text": [
            "73.4630129206304 % of customers stayed in the company\n",
            "26.536987079369588 % of customers left with the company\n"
          ]
        }
      ]
    },
    {
      "cell_type": "code",
      "source": [
        "sns.countplot(x ='gender', hue='Churn', data=df)"
      ],
      "metadata": {
        "colab": {
          "base_uri": "https://localhost:8080/",
          "height": 297
        },
        "id": "d_gSdWDRWWne",
        "outputId": "a916cc82-16c2-4222-b553-ce3ce85776b5"
      },
      "execution_count": 12,
      "outputs": [
        {
          "output_type": "execute_result",
          "data": {
            "text/plain": [
              "<matplotlib.axes._subplots.AxesSubplot at 0x7f34bef53a50>"
            ]
          },
          "metadata": {},
          "execution_count": 12
        },
        {
          "output_type": "display_data",
          "data": {
            "text/plain": [
              "<Figure size 432x288 with 1 Axes>"
            ],
            "image/png": "[encoded data removed]"
          },
          "metadata": {
            "needs_background": "light"
          }
        }
      ]
    },
    {
      "cell_type": "code",
      "source": [
        "sns.countplot(x='InternetService', hue='Churn', data=df)"
      ],
      "metadata": {
        "colab": {
          "base_uri": "https://localhost:8080/",
          "height": 297
        },
        "id": "4wKSpq4mWww6",
        "outputId": "f15bec4c-0e43-4573-beb0-7d6036c96cc0"
      },
      "execution_count": 13,
      "outputs": [
        {
          "output_type": "execute_result",
          "data": {
            "text/plain": [
              "<matplotlib.axes._subplots.AxesSubplot at 0x7f34bea61c90>"
            ]
          },
          "metadata": {},
          "execution_count": 13
        },
        {
          "output_type": "display_data",
          "data": {
            "text/plain": [
              "<Figure size 432x288 with 1 Axes>"
            ],
            "image/png": "[encoded data removed]"
          },
          "metadata": {
            "needs_background": "light"
          }
        }
      ]
    },
    {
      "cell_type": "code",
      "source": [
        "numericFeatures = ['tenure', 'MonthlyCharges'] # tenure : 가입 유지 기간 & MonthlyCharges : 월별 요금\n",
        "fig, ax = plt.subplots(1,2, figsize=(28, 8))\n",
        "df[df.Churn == \"No\"][numericFeatures].hist(bins=20, color='blue', alpha=0.5, ax=ax)\n",
        "df[df.Churn == \"Yes\"][numericFeatures].hist(bins=20, color='orange', alpha=0.5, ax=ax)"
      ],
      "metadata": {
        "colab": {
          "base_uri": "https://localhost:8080/",
          "height": 497
        },
        "id": "HVDjqIHHWzmq",
        "outputId": "c1d0f001-4ee3-4f9e-c24b-8138e22426d2"
      },
      "execution_count": 14,
      "outputs": [
        {
          "output_type": "execute_result",
          "data": {
            "text/plain": [
              "array([<matplotlib.axes._subplots.AxesSubplot object at 0x7f34beac0610>,\n",
              "       <matplotlib.axes._subplots.AxesSubplot object at 0x7f34be9c4b50>],\n",
              "      dtype=object)"
            ]
          },
          "metadata": {},
          "execution_count": 14
        },
        {
          "output_type": "display_data",
          "data": {
            "text/plain": [
              "<Figure size 2016x576 with 2 Axes>"
            ],
            "image/png": "[encoded data removed]"
          },
          "metadata": {
            "needs_background": "light"
          }
        }
      ]
    },
    {
      "cell_type": "markdown",
      "source": [
        "# 3. Data Preprocessing"
      ],
      "metadata": {
        "id": "V1vAfkCeXaau"
      }
    },
    {
      "cell_type": "code",
      "source": [
        "cleanDF = df.drop('customerID', axis=1)"
      ],
      "metadata": {
        "id": "m2acQJ3-XXhS"
      },
      "execution_count": 15,
      "outputs": []
    },
    {
      "cell_type": "code",
      "source": [
        "for column in cleanDF.columns:\n",
        "  if cleanDF[column].dtype == np.number:\n",
        "    continue\n",
        "  cleanDF[column] = LabelEncoder().fit_transform(cleanDF[column])"
      ],
      "metadata": {
        "colab": {
          "base_uri": "https://localhost:8080/"
        },
        "id": "TzOhD5FlXkVz",
        "outputId": "3a607042-d515-442c-d6c9-69a67bf9f743"
      },
      "execution_count": 16,
      "outputs": [
        {
          "output_type": "stream",
          "name": "stderr",
          "text": [
            "/usr/local/lib/python3.7/dist-packages/ipykernel_launcher.py:2: DeprecationWarning: Converting `np.inexact` or `np.floating` to a dtype is deprecated. The current result is `float64` which is not strictly correct.\n",
            "  \n"
          ]
        }
      ]
    },
    {
      "cell_type": "code",
      "source": [
        "cleanDF.dtypes"
      ],
      "metadata": {
        "colab": {
          "base_uri": "https://localhost:8080/"
        },
        "id": "ztoWDqDyX6ai",
        "outputId": "83c65051-2d1b-4dc7-d71e-e0422d1c2b54"
      },
      "execution_count": 17,
      "outputs": [
        {
          "output_type": "execute_result",
          "data": {
            "text/plain": [
              "gender                int64\n",
              "SeniorCitizen         int64\n",
              "Partner               int64\n",
              "Dependents            int64\n",
              "tenure                int64\n",
              "PhoneService          int64\n",
              "MultipleLines         int64\n",
              "InternetService       int64\n",
              "OnlineSecurity        int64\n",
              "OnlineBackup          int64\n",
              "DeviceProtection      int64\n",
              "TechSupport           int64\n",
              "StreamingTV           int64\n",
              "StreamingMovies       int64\n",
              "Contract              int64\n",
              "PaperlessBilling      int64\n",
              "PaymentMethod         int64\n",
              "MonthlyCharges      float64\n",
              "TotalCharges          int64\n",
              "Churn                 int64\n",
              "dtype: object"
            ]
          },
          "metadata": {},
          "execution_count": 17
        }
      ]
    },
    {
      "cell_type": "code",
      "source": [
        "cleanDF.head(5)"
      ],
      "metadata": {
        "colab": {
          "base_uri": "https://localhost:8080/",
          "height": 270
        },
        "id": "X_txGujOXr-t",
        "outputId": "65fa16f3-539e-49d9-ed34-288f2671edde"
      },
      "execution_count": 18,
      "outputs": [
        {
          "output_type": "execute_result",
          "data": {
            "text/plain": [
              "   gender  SeniorCitizen  Partner  Dependents  tenure  PhoneService  \\\n",
              "0       0              0        1           0       1             0   \n",
              "1       1              0        0           0      34             1   \n",
              "2       1              0        0           0       2             1   \n",
              "3       1              0        0           0      45             0   \n",
              "4       0              0        0           0       2             1   \n",
              "\n",
              "   MultipleLines  InternetService  OnlineSecurity  OnlineBackup  \\\n",
              "0              1                0               0             2   \n",
              "1              0                0               2             0   \n",
              "2              0                0               2             2   \n",
              "3              1                0               2             0   \n",
              "4              0                1               0             0   \n",
              "\n",
              "   DeviceProtection  TechSupport  StreamingTV  StreamingMovies  Contract  \\\n",
              "0                 0            0            0                0         0   \n",
              "1                 2            0            0                0         1   \n",
              "2                 0            0            0                0         0   \n",
              "3                 2            2            0                0         1   \n",
              "4                 0            0            0                0         0   \n",
              "\n",
              "   PaperlessBilling  PaymentMethod  MonthlyCharges  TotalCharges  Churn  \n",
              "0                 1              2           29.85          2505      0  \n",
              "1                 0              3           56.95          1466      0  \n",
              "2                 1              3           53.85           157      1  \n",
              "3                 0              0           42.30          1400      0  \n",
              "4                 1              2           70.70           925      1  "
            ],
            "text/html": [
              "\n",
              "  <div id=\"df-bf9a2303-804c-4eff-bdaa-83fef8624f3c\">\n",
              "    <div class=\"colab-df-container\">\n",
              "      <div>\n",
              "<style scoped>\n",
              "    .dataframe tbody tr th:only-of-type {\n",
              "        vertical-align: middle;\n",
              "    }\n",
              "\n",
              "    .dataframe tbody tr th {\n",
              "        vertical-align: top;\n",
              "    }\n",
              "\n",
              "    .dataframe thead th {\n",
              "        text-align: right;\n",
              "    }\n",
              "</style>\n",
              "<table border=\"1\" class=\"dataframe\">\n",
              "  <thead>\n",
              "    <tr style=\"text-align: right;\">\n",
              "      <th></th>\n",
              "      <th>gender</th>\n",
              "      <th>SeniorCitizen</th>\n",
              "      <th>Partner</th>\n",
              "      <th>Dependents</th>\n",
              "      <th>tenure</th>\n",
              "      <th>PhoneService</th>\n",
              "      <th>MultipleLines</th>\n",
              "      <th>InternetService</th>\n",
              "      <th>OnlineSecurity</th>\n",
              "      <th>OnlineBackup</th>\n",
              "      <th>DeviceProtection</th>\n",
              "      <th>TechSupport</th>\n",
              "      <th>StreamingTV</th>\n",
              "      <th>StreamingMovies</th>\n",
              "      <th>Contract</th>\n",
              "      <th>PaperlessBilling</th>\n",
              "      <th>PaymentMethod</th>\n",
              "      <th>MonthlyCharges</th>\n",
              "      <th>TotalCharges</th>\n",
              "      <th>Churn</th>\n",
              "    </tr>\n",
              "  </thead>\n",
              "  <tbody>\n",
              "    <tr>\n",
              "      <th>0</th>\n",
              "      <td>0</td>\n",
              "      <td>0</td>\n",
              "      <td>1</td>\n",
              "      <td>0</td>\n",
              "      <td>1</td>\n",
              "      <td>0</td>\n",
              "      <td>1</td>\n",
              "      <td>0</td>\n",
              "      <td>0</td>\n",
              "      <td>2</td>\n",
              "      <td>0</td>\n",
              "      <td>0</td>\n",
              "      <td>0</td>\n",
              "      <td>0</td>\n",
              "      <td>0</td>\n",
              "      <td>1</td>\n",
              "      <td>2</td>\n",
              "      <td>29.85</td>\n",
              "      <td>2505</td>\n",
              "      <td>0</td>\n",
              "    </tr>\n",
              "    <tr>\n",
              "      <th>1</th>\n",
              "      <td>1</td>\n",
              "      <td>0</td>\n",
              "      <td>0</td>\n",
              "      <td>0</td>\n",
              "      <td>34</td>\n",
              "      <td>1</td>\n",
              "      <td>0</td>\n",
              "      <td>0</td>\n",
              "      <td>2</td>\n",
              "      <td>0</td>\n",
              "      <td>2</td>\n",
              "      <td>0</td>\n",
              "      <td>0</td>\n",
              "      <td>0</td>\n",
              "      <td>1</td>\n",
              "      <td>0</td>\n",
              "      <td>3</td>\n",
              "      <td>56.95</td>\n",
              "      <td>1466</td>\n",
              "      <td>0</td>\n",
              "    </tr>\n",
              "    <tr>\n",
              "      <th>2</th>\n",
              "      <td>1</td>\n",
              "      <td>0</td>\n",
              "      <td>0</td>\n",
              "      <td>0</td>\n",
              "      <td>2</td>\n",
              "      <td>1</td>\n",
              "      <td>0</td>\n",
              "      <td>0</td>\n",
              "      <td>2</td>\n",
              "      <td>2</td>\n",
              "      <td>0</td>\n",
              "      <td>0</td>\n",
              "      <td>0</td>\n",
              "      <td>0</td>\n",
              "      <td>0</td>\n",
              "      <td>1</td>\n",
              "      <td>3</td>\n",
              "      <td>53.85</td>\n",
              "      <td>157</td>\n",
              "      <td>1</td>\n",
              "    </tr>\n",
              "    <tr>\n",
              "      <th>3</th>\n",
              "      <td>1</td>\n",
              "      <td>0</td>\n",
              "      <td>0</td>\n",
              "      <td>0</td>\n",
              "      <td>45</td>\n",
              "      <td>0</td>\n",
              "      <td>1</td>\n",
              "      <td>0</td>\n",
              "      <td>2</td>\n",
              "      <td>0</td>\n",
              "      <td>2</td>\n",
              "      <td>2</td>\n",
              "      <td>0</td>\n",
              "      <td>0</td>\n",
              "      <td>1</td>\n",
              "      <td>0</td>\n",
              "      <td>0</td>\n",
              "      <td>42.30</td>\n",
              "      <td>1400</td>\n",
              "      <td>0</td>\n",
              "    </tr>\n",
              "    <tr>\n",
              "      <th>4</th>\n",
              "      <td>0</td>\n",
              "      <td>0</td>\n",
              "      <td>0</td>\n",
              "      <td>0</td>\n",
              "      <td>2</td>\n",
              "      <td>1</td>\n",
              "      <td>0</td>\n",
              "      <td>1</td>\n",
              "      <td>0</td>\n",
              "      <td>0</td>\n",
              "      <td>0</td>\n",
              "      <td>0</td>\n",
              "      <td>0</td>\n",
              "      <td>0</td>\n",
              "      <td>0</td>\n",
              "      <td>1</td>\n",
              "      <td>2</td>\n",
              "      <td>70.70</td>\n",
              "      <td>925</td>\n",
              "      <td>1</td>\n",
              "    </tr>\n",
              "  </tbody>\n",
              "</table>\n",
              "</div>\n",
              "      <button class=\"colab-df-convert\" onclick=\"convertToInteractive('df-bf9a2303-804c-4eff-bdaa-83fef8624f3c')\"\n",
              "              title=\"Convert this dataframe to an interactive table.\"\n",
              "              style=\"display:none;\">\n",
              "        \n",
              "  <svg xmlns=\"http://www.w3.org/2000/svg\" height=\"24px\"viewBox=\"0 0 24 24\"\n",
              "       width=\"24px\">\n",
              "    <path d=\"M0 0h24v24H0V0z\" fill=\"none\"/>\n",
              "    <path d=\"M18.56 5.44l.94 2.06.94-2.06 2.06-.94-2.06-.94-.94-2.06-.94 2.06-2.06.94zm-11 1L8.5 8.5l.94-2.06 2.06-.94-2.06-.94L8.5 2.5l-.94 2.06-2.06.94zm10 10l.94 2.06.94-2.06 2.06-.94-2.06-.94-.94-2.06-.94 2.06-2.06.94z\"/><path d=\"M17.41 7.96l-1.37-1.37c-.4-.4-.92-.59-1.43-.59-.52 0-1.04.2-1.43.59L10.3 9.45l-7.72 7.72c-.78.78-.78 2.05 0 2.83L4 21.41c.39.39.9.59 1.41.59.51 0 1.02-.2 1.41-.59l7.78-7.78 2.81-2.81c.8-.78.8-2.07 0-2.86zM5.41 20L4 18.59l7.72-7.72 1.47 1.35L5.41 20z\"/>\n",
              "  </svg>\n",
              "      </button>\n",
              "      \n",
              "  <style>\n",
              "    .colab-df-container {\n",
              "      display:flex;\n",
              "      flex-wrap:wrap;\n",
              "      gap: 12px;\n",
              "    }\n",
              "\n",
              "    .colab-df-convert {\n",
              "      background-color: #E8F0FE;\n",
              "      border: none;\n",
              "      border-radius: 50%;\n",
              "      cursor: pointer;\n",
              "      display: none;\n",
              "      fill: #1967D2;\n",
              "      height: 32px;\n",
              "      padding: 0 0 0 0;\n",
              "      width: 32px;\n",
              "    }\n",
              "\n",
              "    .colab-df-convert:hover {\n",
              "      background-color: #E2EBFA;\n",
              "      box-shadow: 0px 1px 2px rgba(60, 64, 67, 0.3), 0px 1px 3px 1px rgba(60, 64, 67, 0.15);\n",
              "      fill: #174EA6;\n",
              "    }\n",
              "\n",
              "    [theme=dark] .colab-df-convert {\n",
              "      background-color: #3B4455;\n",
              "      fill: #D2E3FC;\n",
              "    }\n",
              "\n",
              "    [theme=dark] .colab-df-convert:hover {\n",
              "      background-color: #434B5C;\n",
              "      box-shadow: 0px 1px 3px 1px rgba(0, 0, 0, 0.15);\n",
              "      filter: drop-shadow(0px 1px 2px rgba(0, 0, 0, 0.3));\n",
              "      fill: #FFFFFF;\n",
              "    }\n",
              "  </style>\n",
              "\n",
              "      <script>\n",
              "        const buttonEl =\n",
              "          document.querySelector('#df-bf9a2303-804c-4eff-bdaa-83fef8624f3c button.colab-df-convert');\n",
              "        buttonEl.style.display =\n",
              "          google.colab.kernel.accessAllowed ? 'block' : 'none';\n",
              "\n",
              "        async function convertToInteractive(key) {\n",
              "          const element = document.querySelector('#df-bf9a2303-804c-4eff-bdaa-83fef8624f3c');\n",
              "          const dataTable =\n",
              "            await google.colab.kernel.invokeFunction('convertToInteractive',\n",
              "                                                     [key], {});\n",
              "          if (!dataTable) return;\n",
              "\n",
              "          const docLinkHtml = 'Like what you see? Visit the ' +\n",
              "            '<a target=\"_blank\" href=https://colab.research.google.com/notebooks/data_table.ipynb>data table notebook</a>'\n",
              "            + ' to learn more about interactive tables.';\n",
              "          element.innerHTML = '';\n",
              "          dataTable['output_type'] = 'display_data';\n",
              "          await google.colab.output.renderOutput(dataTable, element);\n",
              "          const docLink = document.createElement('div');\n",
              "          docLink.innerHTML = docLinkHtml;\n",
              "          element.appendChild(docLink);\n",
              "        }\n",
              "      </script>\n",
              "    </div>\n",
              "  </div>\n",
              "  "
            ]
          },
          "metadata": {},
          "execution_count": 18
        }
      ]
    },
    {
      "cell_type": "code",
      "source": [
        "x = cleanDF.drop('Churn', axis=1)\n",
        "y = cleanDF['Churn']\n",
        "x = StandardScaler().fit_transform(x)"
      ],
      "metadata": {
        "id": "W8XWX3sRYVx5"
      },
      "execution_count": 19,
      "outputs": []
    },
    {
      "cell_type": "markdown",
      "source": [
        "# 4. Run Model"
      ],
      "metadata": {
        "id": "5Zhx-LNaYn8W"
      }
    },
    {
      "cell_type": "markdown",
      "source": [
        "https://scikit-learn.org/stable/modules/generated/sklearn.linear_model.LogisticRegression.html"
      ],
      "metadata": {
        "id": "CS3iqtj1Y7BM"
      }
    },
    {
      "cell_type": "markdown",
      "source": [
        "![Linear_Model.PNG](data:image/png;base64,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)"
      ],
      "metadata": {
        "id": "7gJMCdQEaO8Q"
      }
    },
    {
      "cell_type": "code",
      "source": [
        "xtrain, xtest, ytrain, ytest = train_test_split(x,y, test_size=0.2, random_state=42)"
      ],
      "metadata": {
        "id": "IWfn9hIHYZ2v"
      },
      "execution_count": 20,
      "outputs": []
    },
    {
      "cell_type": "code",
      "source": [
        "model = LogisticRegression()\n",
        "model.fit(xtrain, ytrain)"
      ],
      "metadata": {
        "colab": {
          "base_uri": "https://localhost:8080/"
        },
        "id": "muYogjahYcsl",
        "outputId": "89deee66-dcb6-49bd-a4ce-ed5834570141"
      },
      "execution_count": 21,
      "outputs": [
        {
          "output_type": "execute_result",
          "data": {
            "text/plain": [
              "LogisticRegression()"
            ]
          },
          "metadata": {},
          "execution_count": 21
        }
      ]
    },
    {
      "cell_type": "code",
      "source": [
        "predictions = model.predict(xtest)\n",
        "print(predictions)"
      ],
      "metadata": {
        "colab": {
          "base_uri": "https://localhost:8080/"
        },
        "id": "nhwytublYwFG",
        "outputId": "9132e04e-c89d-405c-f076-18481730def9"
      },
      "execution_count": 22,
      "outputs": [
        {
          "output_type": "stream",
          "name": "stdout",
          "text": [
            "[1 0 0 ... 0 0 0]\n"
          ]
        }
      ]
    },
    {
      "cell_type": "markdown",
      "source": [
        "# 5. Evaluation"
      ],
      "metadata": {
        "id": "qpmZ0xI9abNn"
      }
    },
    {
      "cell_type": "code",
      "source": [
        "print(classification_report(ytest, predictions))"
      ],
      "metadata": {
        "colab": {
          "base_uri": "https://localhost:8080/"
        },
        "id": "2AqeQbOraaT4",
        "outputId": "409c00ec-1df8-4b96-949d-80f732ac488a"
      },
      "execution_count": 23,
      "outputs": [
        {
          "output_type": "stream",
          "name": "stdout",
          "text": [
            "              precision    recall  f1-score   support\n",
            "\n",
            "           0       0.85      0.91      0.88      1036\n",
            "           1       0.69      0.56      0.62       373\n",
            "\n",
            "    accuracy                           0.82      1409\n",
            "   macro avg       0.77      0.74      0.75      1409\n",
            "weighted avg       0.81      0.82      0.81      1409\n",
            "\n"
          ]
        }
      ]
    },
    {
      "cell_type": "markdown",
      "source": [
        "# 6. Tuning"
      ],
      "metadata": {
        "id": "wnPBt73ka87M"
      }
    },
    {
      "cell_type": "code",
      "source": [
        "print('\\ 하이퍼 파라미터:\\n', model.get_params())"
      ],
      "metadata": {
        "colab": {
          "base_uri": "https://localhost:8080/"
        },
        "id": "W4oTxdx_dPzw",
        "outputId": "d55b43a1-400d-48f0-854f-b980cacbc080"
      },
      "execution_count": 24,
      "outputs": [
        {
          "output_type": "stream",
          "name": "stdout",
          "text": [
            "\\ 하이퍼 파라미터:\n",
            " {'C': 1.0, 'class_weight': None, 'dual': False, 'fit_intercept': True, 'intercept_scaling': 1, 'l1_ratio': None, 'max_iter': 100, 'multi_class': 'auto', 'n_jobs': None, 'penalty': 'l2', 'random_state': None, 'solver': 'lbfgs', 'tol': 0.0001, 'verbose': 0, 'warm_start': False}\n"
          ]
        }
      ]
    },
    {
      "cell_type": "code",
      "source": [
        "from sklearn.model_selection import RandomizedSearchCV, train_test_split\n",
        "\n",
        "xtrain, xtest, ytrain, ytest = train_test_split(x,y, test_size=0.2, random_state=42)"
      ],
      "metadata": {
        "id": "jR7Q75_dd2w6"
      },
      "execution_count": 27,
      "outputs": []
    },
    {
      "cell_type": "code",
      "source": [
        "estimator = LogisticRegression(\n",
        "    random_state = 42,\n",
        "    penalty = 'l2'\n",
        ")\n",
        "estimator.fit(xtrain, ytrain)"
      ],
      "metadata": {
        "colab": {
          "base_uri": "https://localhost:8080/"
        },
        "id": "ebrlaDRHe54b",
        "outputId": "31b0173d-7485-4ba0-acd4-b6be70345673"
      },
      "execution_count": 29,
      "outputs": [
        {
          "output_type": "execute_result",
          "data": {
            "text/plain": [
              "LogisticRegression(random_state=42)"
            ]
          },
          "metadata": {},
          "execution_count": 29
        }
      ]
    },
    {
      "cell_type": "code",
      "source": [
        "predictions = model.predict(xtest)\n",
        "print(predictions)"
      ],
      "metadata": {
        "colab": {
          "base_uri": "https://localhost:8080/"
        },
        "id": "Zs8eRZgLfF0-",
        "outputId": "ef3d4830-e0c6-431e-d57b-7ee392644896"
      },
      "execution_count": 30,
      "outputs": [
        {
          "output_type": "stream",
          "name": "stdout",
          "text": [
            "[1 0 0 ... 0 0 0]\n"
          ]
        }
      ]
    },
    {
      "cell_type": "code",
      "source": [
        "print(classification_report(ytest, predictions))"
      ],
      "metadata": {
        "colab": {
          "base_uri": "https://localhost:8080/"
        },
        "id": "lUD2Hc0mfKgp",
        "outputId": "a986f655-20e1-45cc-d9f7-82d5c609af38"
      },
      "execution_count": 31,
      "outputs": [
        {
          "output_type": "stream",
          "name": "stdout",
          "text": [
            "              precision    recall  f1-score   support\n",
            "\n",
            "           0       0.85      0.91      0.88      1036\n",
            "           1       0.69      0.56      0.62       373\n",
            "\n",
            "    accuracy                           0.82      1409\n",
            "   macro avg       0.77      0.74      0.75      1409\n",
            "weighted avg       0.81      0.82      0.81      1409\n",
            "\n"
          ]
        }
      ]
    },
    {
      "cell_type": "code",
      "source": [
        "max_iter = range(100, 500)\n",
        "solver = ['lbfgs', 'newton-cg', 'liblinear']\n",
        "warm_start = [True, False]\n",
        "C = np.arange(0, 1, 0.01)\n",
        "random_grid ={\n",
        "    'max_iter' : max_iter,\n",
        "    'warm_start' : warm_start,\n",
        "    'solver' : solver,\n",
        "    'C' : C,\n",
        "}"
      ],
      "metadata": {
        "id": "y1dQnltGfP7a"
      },
      "execution_count": 32,
      "outputs": []
    },
    {
      "cell_type": "code",
      "source": [
        "random_estimator = RandomizedSearchCV(estimator = estimator,\n",
        "                                   param_distributions = random_grid,\n",
        "                                   n_iter = 100,\n",
        "                                   scoring = 'accuracy',\n",
        "                                   n_jobs = -1,\n",
        "                                   verbose = 1, \n",
        "                                   random_state = 42,\n",
        "                                  )\n",
        "\n",
        "random_estimator.fit(xtrain, ytrain)"
      ],
      "metadata": {
        "colab": {
          "base_uri": "https://localhost:8080/"
        },
        "id": "ifPdrq8QfSLl",
        "outputId": "8eede4aa-b7c0-47ce-e3b2-1f4b815852a8"
      },
      "execution_count": 36,
      "outputs": [
        {
          "output_type": "stream",
          "name": "stdout",
          "text": [
            "Fitting 5 folds for each of 100 candidates, totalling 500 fits\n"
          ]
        },
        {
          "output_type": "stream",
          "name": "stderr",
          "text": [
            "/usr/local/lib/python3.7/dist-packages/sklearn/model_selection/_validation.py:372: FitFailedWarning: \n",
            "5 fits failed out of a total of 500.\n",
            "The score on these train-test partitions for these parameters will be set to nan.\n",
            "If these failures are not expected, you can try to debug them by setting error_score='raise'.\n",
            "\n",
            "Below are more details about the failures:\n",
            "--------------------------------------------------------------------------------\n",
            "5 fits failed with the following error:\n",
            "Traceback (most recent call last):\n",
            "  File \"/usr/local/lib/python3.7/dist-packages/sklearn/model_selection/_validation.py\", line 680, in _fit_and_score\n",
            "    estimator.fit(X_train, y_train, **fit_params)\n",
            "  File \"/usr/local/lib/python3.7/dist-packages/sklearn/linear_model/_logistic.py\", line 1614, in fit\n",
            "    for class_, warm_start_coef_ in zip(classes_, warm_start_coef)\n",
            "  File \"/usr/local/lib/python3.7/dist-packages/joblib/parallel.py\", line 1085, in __call__\n",
            "    if self.dispatch_one_batch(iterator):\n",
            "  File \"/usr/local/lib/python3.7/dist-packages/joblib/parallel.py\", line 901, in dispatch_one_batch\n",
            "    self._dispatch(tasks)\n",
            "  File \"/usr/local/lib/python3.7/dist-packages/joblib/parallel.py\", line 819, in _dispatch\n",
            "    job = self._backend.apply_async(batch, callback=cb)\n",
            "  File \"/usr/local/lib/python3.7/dist-packages/joblib/_parallel_backends.py\", line 208, in apply_async\n",
            "    result = ImmediateResult(func)\n",
            "  File \"/usr/local/lib/python3.7/dist-packages/joblib/_parallel_backends.py\", line 597, in __init__\n",
            "    self.results = batch()\n",
            "  File \"/usr/local/lib/python3.7/dist-packages/joblib/parallel.py\", line 289, in __call__\n",
            "    for func, args, kwargs in self.items]\n",
            "  File \"/usr/local/lib/python3.7/dist-packages/joblib/parallel.py\", line 289, in <listcomp>\n",
            "    for func, args, kwargs in self.items]\n",
            "  File \"/usr/local/lib/python3.7/dist-packages/sklearn/utils/fixes.py\", line 216, in __call__\n",
            "    return self.function(*args, **kwargs)\n",
            "  File \"/usr/local/lib/python3.7/dist-packages/sklearn/linear_model/_logistic.py\", line 812, in _logistic_regression_path\n",
            "    options={\"iprint\": iprint, \"gtol\": tol, \"maxiter\": max_iter},\n",
            "  File \"/usr/local/lib/python3.7/dist-packages/scipy/optimize/_minimize.py\", line 624, in minimize\n",
            "    callback=callback, **options)\n",
            "  File \"/usr/local/lib/python3.7/dist-packages/scipy/optimize/lbfgsb.py\", line 360, in _minimize_lbfgsb\n",
            "    f, g = func_and_grad(x)\n",
            "  File \"/usr/local/lib/python3.7/dist-packages/scipy/optimize/_differentiable_functions.py\", line 267, in fun_and_grad\n",
            "    self._update_fun()\n",
            "  File \"/usr/local/lib/python3.7/dist-packages/scipy/optimize/_differentiable_functions.py\", line 233, in _update_fun\n",
            "    self._update_fun_impl()\n",
            "  File \"/usr/local/lib/python3.7/dist-packages/scipy/optimize/_differentiable_functions.py\", line 137, in update_fun\n",
            "    self.f = fun_wrapped(self.x)\n",
            "  File \"/usr/local/lib/python3.7/dist-packages/scipy/optimize/_differentiable_functions.py\", line 134, in fun_wrapped\n",
            "    return fun(np.copy(x), *args)\n",
            "  File \"/usr/local/lib/python3.7/dist-packages/scipy/optimize/optimize.py\", line 74, in __call__\n",
            "    self._compute_if_needed(x, *args)\n",
            "  File \"/usr/local/lib/python3.7/dist-packages/scipy/optimize/optimize.py\", line 68, in _compute_if_needed\n",
            "    fg = self.fun(x, *args)\n",
            "  File \"/usr/local/lib/python3.7/dist-packages/sklearn/linear_model/_logistic.py\", line 122, in _logistic_loss_and_grad\n",
            "    out = -np.sum(sample_weight * log_logistic(yz)) + 0.5 * alpha * np.dot(w, w)\n",
            "  File \"/usr/local/lib/python3.7/dist-packages/sklearn/utils/extmath.py\", line 785, in log_logistic\n",
            "    X = check_array(X, dtype=np.float64)\n",
            "  File \"/usr/local/lib/python3.7/dist-packages/sklearn/utils/validation.py\", line 800, in check_array\n",
            "    _assert_all_finite(array, allow_nan=force_all_finite == \"allow-nan\")\n",
            "  File \"/usr/local/lib/python3.7/dist-packages/sklearn/utils/validation.py\", line 116, in _assert_all_finite\n",
            "    type_err, msg_dtype if msg_dtype is not None else X.dtype\n",
            "ValueError: Input contains NaN, infinity or a value too large for dtype('float64').\n",
            "\n",
            "  warnings.warn(some_fits_failed_message, FitFailedWarning)\n",
            "/usr/local/lib/python3.7/dist-packages/sklearn/model_selection/_search.py:972: UserWarning: One or more of the test scores are non-finite: [0.80049677 0.80031915 0.80014169 0.80031931 0.80031931 0.80031931\n",
            " 0.80067407 0.79978708 0.80049677 0.80031915 0.80031915 0.80014184\n",
            " 0.80031931 0.80049677 0.80031915 0.80031915 0.79996517 0.79925469\n",
            " 0.79978676 0.79978676        nan 0.800142   0.80067407 0.800142\n",
            " 0.80031915 0.79907754 0.80031931 0.80031915 0.80031915 0.80031915\n",
            " 0.80014184 0.80049661 0.80031915 0.80031915 0.80049677 0.80067407\n",
            " 0.80031915 0.80049693 0.80049677 0.80049661 0.80014169 0.79694768\n",
            " 0.80049677 0.80049661 0.79978676 0.80049677 0.80014184 0.80049661\n",
            " 0.80049677 0.79978676 0.79943184 0.800142   0.79907723 0.80031931\n",
            " 0.80014263 0.79978676 0.79747944 0.79925469 0.80031915 0.80031915\n",
            " 0.80014184 0.80031915 0.79943278 0.80031915 0.80031915 0.80031915\n",
            " 0.80031915 0.80031915 0.80049661 0.79978676 0.80049677 0.80049677\n",
            " 0.80049661 0.80049677 0.79907707 0.79925501 0.80031931 0.80031931\n",
            " 0.80014184 0.79978708 0.80067407 0.80031915 0.80031915 0.80067407\n",
            " 0.79943247 0.80031915 0.80031915 0.80031946 0.79907691 0.80031915\n",
            " 0.80014263 0.80031915 0.80031915 0.80067407 0.80067407 0.79907723\n",
            " 0.80031915 0.80031931 0.80031915 0.80014263]\n",
            "  category=UserWarning,\n"
          ]
        },
        {
          "output_type": "execute_result",
          "data": {
            "text/plain": [
              "RandomizedSearchCV(estimator=LogisticRegression(random_state=42), n_iter=100,\n",
              "                   n_jobs=-1,\n",
              "                   param_distributions={'C': array([0.  , 0.01, 0.02, 0.03, 0.04, 0.05, 0.06, 0.07, 0.08, 0.09, 0.1 ,\n",
              "       0.11, 0.12, 0.13, 0.14, 0.15, 0.16, 0.17, 0.18, 0.19, 0.2 , 0.21,\n",
              "       0.22, 0.23, 0.24, 0.25, 0.26, 0.27, 0.28, 0.29, 0.3 , 0.31, 0.32,\n",
              "       0.33, 0.34, 0.35, 0.36, 0.37, 0.38, 0.39, 0.4 , 0.41, 0.42, 0.43,\n",
              "       0.44, 0.45, 0.46, 0.4...\n",
              "       0.55, 0.56, 0.57, 0.58, 0.59, 0.6 , 0.61, 0.62, 0.63, 0.64, 0.65,\n",
              "       0.66, 0.67, 0.68, 0.69, 0.7 , 0.71, 0.72, 0.73, 0.74, 0.75, 0.76,\n",
              "       0.77, 0.78, 0.79, 0.8 , 0.81, 0.82, 0.83, 0.84, 0.85, 0.86, 0.87,\n",
              "       0.88, 0.89, 0.9 , 0.91, 0.92, 0.93, 0.94, 0.95, 0.96, 0.97, 0.98,\n",
              "       0.99]),\n",
              "                                        'max_iter': range(100, 500),\n",
              "                                        'solver': ['lbfgs', 'newton-cg',\n",
              "                                                   'liblinear'],\n",
              "                                        'warm_start': [True, False]},\n",
              "                   random_state=42, scoring='accuracy', verbose=1)"
            ]
          },
          "metadata": {},
          "execution_count": 36
        }
      ]
    },
    {
      "cell_type": "code",
      "source": [
        "from sklearn.metrics import accuracy_score, cohen_kappa_score, confusion_matrix\n",
        "\n",
        "random_estimator.best_params_\n",
        "\n",
        "best_estimator = random_estimator.best_estimator_\n",
        "best_estimator.fit(xtrain, ytrain)\n",
        "\n",
        "pred = best_estimator.predict(xtest)\n",
        "accuracy_score(pred, ytest)"
      ],
      "metadata": {
        "colab": {
          "base_uri": "https://localhost:8080/"
        },
        "id": "rDU6UBbFfeIB",
        "outputId": "e190fdb0-de87-4a9a-db77-58dba3e1fd88"
      },
      "execution_count": 35,
      "outputs": [
        {
          "output_type": "execute_result",
          "data": {
            "text/plain": [
              "0.8176011355571328"
            ]
          },
          "metadata": {},
          "execution_count": 35
        }
      ]
    }
  ]
}